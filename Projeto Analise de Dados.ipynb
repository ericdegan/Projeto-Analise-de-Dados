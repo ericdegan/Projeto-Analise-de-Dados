{
 "cells": [
  {
   "cell_type": "code",
   "execution_count": 22,
   "id": "00361377",
   "metadata": {},
   "outputs": [
    {
     "ename": "SyntaxError",
     "evalue": "invalid syntax (1431011572.py, line 48)",
     "output_type": "error",
     "traceback": [
      "\u001b[1;36m  File \u001b[1;32m\"C:\\Users\\ericd\\AppData\\Local\\Temp\\ipykernel_6360\\1431011572.py\"\u001b[1;36m, line \u001b[1;32m48\u001b[0m\n\u001b[1;33m    Analise:\u001b[0m\n\u001b[1;37m            ^\u001b[0m\n\u001b[1;31mSyntaxError\u001b[0m\u001b[1;31m:\u001b[0m invalid syntax\n"
     ]
    }
   ],
   "source": [
    "# Importar a Base de dados\n",
    "import pandas as pd\n",
    "import plotly.express as px\n",
    "\n",
    "\n",
    "tabela = pd.read_csv('telecom_users.csv')\n",
    "\n",
    "# Vizualizar a base de dados\n",
    "tabela = tabela.drop(\"Unnamed: 0\", axis=1)\n",
    "\n",
    "# - Entender quais as informações tão disponiveis\n",
    "# - Descobrir as cagadas da base de dados\n",
    "# - Tratamentamento de dados\n",
    "# - Valores estão sendo reconhecidos de forma errada\n",
    "tabela[\"TotalGasto\"] = pd.to_numeric(tabela[\"TotalGasto\"], errors=\"coerce\")\n",
    "# - Valores vazios (valores que nao te ajudam te atrapalham)\n",
    "# - deletando colunas\n",
    "tabela = tabela.dropna(how=\"all\",axis=1)\n",
    "# - deletando linhas\n",
    "tabela = tabela.dropna(how=\"any\",axis=0)\n",
    "\n",
    "\n",
    "# Analise inicial\n",
    "#Como estão nossos cancelamentos?\n",
    "tabela[\"Churn\"].value_counts()\n",
    "\n",
    "#transformando em %\n",
    "    \n",
    "tabela[\"Churn\"].value_counts(normalize=True)\n",
    "\n",
    "#formatando em %\n",
    "\n",
    "tabela[\"Churn\"].value_counts(normalize=True).map(\"{:.1%}\".format)\n",
    "\n",
    "\n",
    "# 1 - Criar o grafico\n",
    "\n",
    "for coluna in tabela.columns:\n",
    "    grafico = px.histogram(tabela, x=coluna, color=\"Churn\")\n",
    "    \n",
    "\n",
    "# 2 - Exibir o grafico\n",
    "\n",
    "    grafico.show()\n",
    "\n",
    "\n",
    "\n",
    "Analise:\n",
    "    - Clientes com Contrato mensal tem MUITO mais chance de cancelar:\n",
    "        Segestão: Podemos fazer promoções para o cliente ir para o contrato anual\n",
    "    - Familia maiores tendem a cancelar menos do que familias menores\n",
    "        Sugestão: Podemos fazer promoções pra pessoa pagar um linha adivional de telefone\n",
    "    - Clientes com MENOS tempo de uso tem uma taxa de cancelamento maior.\n",
    "        Interpretação:\n",
    "            - A primeira experiencia do cliente pode estar sendo ruim\n",
    "            - Os clientes captados podem não ser os mais adequados\n",
    "        Sugestão: Podemos criar um plano de incentivo para melhorar as primeiras experiencias\n",
    "    - Quanto mais serviços são fornecidos a um cliente menos chance ele tem de cancelar\n",
    "        Sugestão: Promoções para adesão de novos serviços.\n",
    "    - Algo no serviço de fibra esta fazendo os clientes cancelarem\n",
    "    - Clientes que pagam em boleto tem MAIOR taxa de cancelamento\n",
    "        Sugestão: Incentivo para os clientes que pagam em boleto mudem sua forma de pagamento.\n"
   ]
  },
  {
   "cell_type": "code",
   "execution_count": null,
   "id": "bce2bf4d",
   "metadata": {},
   "outputs": [],
   "source": [
    "\n"
   ]
  },
  {
   "cell_type": "code",
   "execution_count": null,
   "id": "d647c356",
   "metadata": {},
   "outputs": [],
   "source": []
  }
 ],
 "metadata": {
  "kernelspec": {
   "display_name": "Python 3 (ipykernel)",
   "language": "python",
   "name": "python3"
  },
  "language_info": {
   "codemirror_mode": {
    "name": "ipython",
    "version": 3
   },
   "file_extension": ".py",
   "mimetype": "text/x-python",
   "name": "python",
   "nbconvert_exporter": "python",
   "pygments_lexer": "ipython3",
   "version": "3.9.13"
  }
 },
 "nbformat": 4,
 "nbformat_minor": 5
}
